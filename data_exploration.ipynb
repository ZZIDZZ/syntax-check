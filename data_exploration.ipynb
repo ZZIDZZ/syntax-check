{
 "cells": [
  {
   "cell_type": "code",
   "execution_count": 9,
   "metadata": {},
   "outputs": [],
   "source": [
    "# read jsonl file in dataset_ast_sim_wit/ruby/test.jsonl\n",
    "# and print the data in a readable format\n",
    "\n",
    "\n",
    "import json\n",
    "import os\n",
    "import sys\n",
    "import pandas as pd"
   ]
  },
  {
   "cell_type": "code",
   "execution_count": 22,
   "metadata": {},
   "outputs": [],
   "source": [
    "# print\n",
    "jsonl_file_path = '../disertasi_datasets/codexglue/javascript/test.jsonl'\n",
    "jsonObj = pd.read_json(path_or_buf=jsonl_file_path, lines=True, encoding='utf-8')"
   ]
  },
  {
   "cell_type": "code",
   "execution_count": null,
   "metadata": {},
   "outputs": [
    {
     "name": "stderr",
     "output_type": "stream",
     "text": [
      "IOPub data rate exceeded.\n",
      "The Jupyter server will temporarily stop sending output\n",
      "to the client in order to avoid crashing it.\n",
      "To change this limit, set the config variable\n",
      "`--ServerApp.iopub_data_rate_limit`.\n",
      "\n",
      "Current values:\n",
      "ServerApp.iopub_data_rate_limit=1000000.0 (bytes/sec)\n",
      "ServerApp.rate_limit_window=3.0 (secs)\n",
      "\n"
     ]
    }
   ],
   "source": [
    "print(jsonObj.to_string(index=False))"
   ]
  },
  {
   "cell_type": "code",
   "execution_count": 14,
   "metadata": {},
   "outputs": [
    {
     "name": "stdout",
     "output_type": "stream",
     "text": [
      "Total number of records:  10955\n",
      "repo                                                 ReactiveX/RxJava\n",
      "path                       src/main/java/io/reactivex/Observable.java\n",
      "func_name                                           Observable.sorted\n",
      "original_string     @CheckReturnValue\\n    @SchedulerSupport(Sched...\n",
      "language                                                         java\n",
      "code                @CheckReturnValue\\n    @SchedulerSupport(Sched...\n",
      "code_tokens         [@, CheckReturnValue, @, SchedulerSupport, (, ...\n",
      "docstring           Returns an Observable that emits the events em...\n",
      "docstring_tokens    [Returns, an, Observable, that, emits, the, ev...\n",
      "sha                          ac84182aa2bd866b53e01c8e3fe99683b882c60e\n",
      "url                 https://github.com/ReactiveX/RxJava/blob/ac841...\n",
      "partition                                                        test\n",
      "Name: 2, dtype: object\n"
     ]
    }
   ],
   "source": [
    "print(\"Total number of records: \", len(jsonObj))\n",
    "# first record\n",
    "print(jsonObj.iloc[2])"
   ]
  },
  {
   "cell_type": "code",
   "execution_count": null,
   "metadata": {
    "scrolled": true
   },
   "outputs": [],
   "source": [
    "# read all the codes, and name it <sha>.<language>\n",
    "# read extension based on language\n",
    "# - go\n",
    "# - java\n",
    "# - javascript\n",
    "# - php\n",
    "# - python\n",
    "# - ruby\n",
    "# write to dataset/<language>/<sha>.<language>\n",
    "# create directory if not exists\n",
    "# Mapping extensions\n",
    "def get_extension(language):\n",
    "    if language == 'go':\n",
    "        return 'go'\n",
    "    elif language == 'java':\n",
    "        return 'java'\n",
    "    elif language == 'javascript':\n",
    "        return 'js'\n",
    "    elif language == 'php':\n",
    "        return 'php'\n",
    "    elif language == 'python':\n",
    "        return 'py'\n",
    "    elif language == 'ruby':\n",
    "        return 'rb'\n",
    "    else:\n",
    "        return None\n",
    "\n",
    "# Write code to file safely\n",
    "def write_code_to_file(code, sha, language, func_name):\n",
    "    extension = get_extension(language)\n",
    "    if extension is None:\n",
    "        print(f\"Unknown language: {language}\")\n",
    "        return\n",
    "    directory = f\"dataset/{language}\"\n",
    "    os.makedirs(directory, exist_ok=True)\n",
    "    file_path = os.path.join(directory, f\"{sha}_{func_name}.{extension}\")\n",
    "    with open(file_path, 'w', encoding='utf-8') as f:  # <-- FIXED here\n",
    "        f.write(code)\n",
    "    print(f\"Written code to {file_path}\")\n",
    "\n",
    "\n",
    "jsonl_file_languages=['java', 'javascript', 'ruby', 'php', 'python', 'go']\n",
    "\n",
    "for language in jsonl_file_languages:\n",
    "    print(f\"language {language}\")\n",
    "    directory = f'../disertasi_datasets/codexglue/{language}/test.jsonl'\n",
    "    objJson = pd.read_json(path_or_buf=jsonl_file_path, lines=True, encoding='utf-8')\n",
    "    # Iterate through JSONL rows\n",
    "    for index, row in objJson.iterrows():\n",
    "        sha = row['sha']\n",
    "        language = language\n",
    "        code = row['code']\n",
    "        func_name = row['func_name']\n",
    "        write_code_to_file(code, sha, language, func_name)\n",
    "\n",
    "\n"
   ]
  },
  {
   "cell_type": "code",
   "execution_count": null,
   "metadata": {},
   "outputs": [],
   "source": []
  }
 ],
 "metadata": {
  "kernelspec": {
   "display_name": "Python 3 (ipykernel)",
   "language": "python",
   "name": "python3"
  },
  "language_info": {
   "codemirror_mode": {
    "name": "ipython",
    "version": 3
   },
   "file_extension": ".py",
   "mimetype": "text/x-python",
   "name": "python",
   "nbconvert_exporter": "python",
   "pygments_lexer": "ipython3",
   "version": "3.12.7"
  }
 },
 "nbformat": 4,
 "nbformat_minor": 4
}
